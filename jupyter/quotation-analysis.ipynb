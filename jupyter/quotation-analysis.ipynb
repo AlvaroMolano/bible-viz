{
 "cells": [
  {
   "cell_type": "code",
   "execution_count": 1,
   "metadata": {
    "collapsed": true
   },
   "outputs": [],
   "source": [
    "import os\n",
    "import csv\n",
    "import pandas\n",
    "from collections import Counter"
   ]
  },
  {
   "cell_type": "code",
   "execution_count": 2,
   "metadata": {
    "collapsed": true
   },
   "outputs": [],
   "source": [
    "DATA_DIR = \"/Users/brian/code/bible/data\"\n",
    "OUTPUT_DIR = \"/Users/brian/code/bible/output\"\n",
    "QUOTATION_PATH = os.path.join(OUTPUT_DIR, \"quotations.csv\")"
   ]
  },
  {
   "cell_type": "code",
   "execution_count": 3,
   "metadata": {
    "collapsed": true
   },
   "outputs": [],
   "source": [
    "quotation_df = pandas.read_csv(QUOTATION_PATH)"
   ]
  },
  {
   "cell_type": "code",
   "execution_count": 4,
   "metadata": {
    "collapsed": true
   },
   "outputs": [],
   "source": [
    "ot_book_chapters = [\" \".join(book_chapter) for book_chapter in\n",
    "                    zip(quotation_df[\"ot_book\"], [str(c) for c in list(quotation_df[\"ot_c\"])])]"
   ]
  },
  {
   "cell_type": "code",
   "execution_count": 5,
   "metadata": {
    "collapsed": true
   },
   "outputs": [],
   "source": [
    "nt_book_chapters = [\" \".join(book_chapter) for book_chapter in\n",
    "                    zip(quotation_df[\"nt_book\"], [str(c) for c in list(quotation_df[\"nt_c\"])])]"
   ]
  },
  {
   "cell_type": "code",
   "execution_count": 6,
   "metadata": {
    "collapsed": true
   },
   "outputs": [],
   "source": [
    "ot_bcv = [(bcv[0] + \" \" + bcv[1] + \":\" + bcv[2]) for bcv in zip(\n",
    "    quotation_df[\"ot_book\"],\n",
    "    [str(c) for c in list(quotation_df[\"ot_c\"])],\n",
    "    [str(v) for v in list(quotation_df[\"ot_v\"])]\n",
    ")]"
   ]
  },
  {
   "cell_type": "markdown",
   "metadata": {},
   "source": [
    "### OT/NT books with most quotations"
   ]
  },
  {
   "cell_type": "code",
   "execution_count": 7,
   "metadata": {},
   "outputs": [
    {
     "data": {
      "text/plain": [
       "[('Psalms', 83),\n",
       " ('Isaiah', 62),\n",
       " ('Deuteronomy', 41),\n",
       " ('Exodus', 29),\n",
       " ('Genesis', 24),\n",
       " ('Leviticus', 12),\n",
       " ('Jeremiah', 12),\n",
       " ('Proverbs', 7),\n",
       " ('Zechariah', 7),\n",
       " ('Hosea', 6),\n",
       " ('Malachi', 5),\n",
       " ('Habakkuk', 4),\n",
       " ('2 Samuel', 3),\n",
       " ('1 Kings', 2),\n",
       " ('Joel', 2),\n",
       " ('Ezekiel', 2),\n",
       " ('Job', 1),\n",
       " ('Micah', 1),\n",
       " ('Haggai', 1),\n",
       " ('1 Samuel', 1),\n",
       " ('Joshua', 1),\n",
       " ('Nahum', 1)]"
      ]
     },
     "execution_count": 7,
     "metadata": {},
     "output_type": "execute_result"
    }
   ],
   "source": [
    "Counter(quotation_df[\"ot_book\"]).most_common()"
   ]
  },
  {
   "cell_type": "code",
   "execution_count": 8,
   "metadata": {},
   "outputs": [
    {
     "data": {
      "text/plain": [
       "[('Romans', 62),\n",
       " ('Matthew', 49),\n",
       " ('Hebrews', 37),\n",
       " ('Acts', 29),\n",
       " ('Luke', 24),\n",
       " ('Mark', 23),\n",
       " ('1 Corinthians', 18),\n",
       " ('John', 17),\n",
       " ('2 Corinthians', 11),\n",
       " ('Galatians', 10),\n",
       " ('1 Peter', 9),\n",
       " ('Revelation', 6),\n",
       " ('Ephesians', 6),\n",
       " ('James', 4),\n",
       " ('1 Timothy', 1),\n",
       " ('2 Peter', 1)]"
      ]
     },
     "execution_count": 8,
     "metadata": {},
     "output_type": "execute_result"
    }
   ],
   "source": [
    "Counter(quotation_df[\"nt_book\"]).most_common()"
   ]
  },
  {
   "cell_type": "markdown",
   "metadata": {},
   "source": [
    "## OT/NT chapters with most quotations"
   ]
  },
  {
   "cell_type": "code",
   "execution_count": 9,
   "metadata": {},
   "outputs": [
    {
     "data": {
      "text/plain": [
       "[('Exodus 20', 9),\n",
       " ('Deuteronomy 5', 8),\n",
       " ('Isaiah 53', 8),\n",
       " ('Psalms 118', 8),\n",
       " ('Psalms 110', 8),\n",
       " ('Isaiah 40', 7),\n",
       " ('Leviticus 19', 7),\n",
       " ('Deuteronomy 6', 7),\n",
       " ('Genesis 2', 6),\n",
       " ('Psalms 22', 5),\n",
       " ('Deuteronomy 32', 5),\n",
       " ('Deuteronomy 25', 5),\n",
       " ('Psalms 69', 5),\n",
       " ('Isaiah 6', 5),\n",
       " ('Jeremiah 31', 4),\n",
       " ('Psalms 2', 4),\n",
       " ('Exodus 3', 4),\n",
       " ('Genesis 15', 4),\n",
       " ('Psalms 95', 4),\n",
       " ('Isaiah 28', 4),\n",
       " ('Isaiah 29', 4),\n",
       " ('Isaiah 52', 4),\n",
       " ('Isaiah 49', 3),\n",
       " ('Isaiah 42', 3),\n",
       " ('Jeremiah 7', 3),\n",
       " ('Genesis 22', 3),\n",
       " ('Psalms 8', 3),\n",
       " ('Psalms 6', 3),\n",
       " ('Malachi 3', 3),\n",
       " ('Proverbs 3', 3),\n",
       " ('Habakkuk 2', 3),\n",
       " ('Genesis 17', 3),\n",
       " ('Deuteronomy 10', 3),\n",
       " ('Deuteronomy 19', 3),\n",
       " ('Psalms 16', 3),\n",
       " ('Isaiah 56', 3),\n",
       " ('Psalms 91', 2),\n",
       " ('Psalms 109', 2),\n",
       " ('Psalms 34', 2),\n",
       " ('Genesis 21', 2)]"
      ]
     },
     "execution_count": 9,
     "metadata": {},
     "output_type": "execute_result"
    }
   ],
   "source": [
    "Counter(ot_book_chapters).most_common(40)"
   ]
  },
  {
   "cell_type": "code",
   "execution_count": 10,
   "metadata": {},
   "outputs": [
    {
     "data": {
      "text/plain": [
       "[('Romans 9', 12),\n",
       " ('Romans 10', 11),\n",
       " ('Romans 3', 9),\n",
       " ('Acts 7', 9),\n",
       " ('Matthew 4', 7),\n",
       " ('Hebrews 1', 7),\n",
       " ('Acts 13', 7),\n",
       " ('Mark 12', 6),\n",
       " ('Matthew 21', 6),\n",
       " ('1 Corinthians 15', 6),\n",
       " ('Luke 4', 6),\n",
       " ('Galatians 3', 6),\n",
       " ('Romans 15', 6),\n",
       " ('Romans 11', 6),\n",
       " ('Romans 4', 5),\n",
       " ('Matthew 22', 5),\n",
       " ('Mark 7', 5),\n",
       " ('Hebrews 2', 5),\n",
       " ('2 Corinthians 6', 5),\n",
       " ('1 Peter 2', 5),\n",
       " ('Hebrews 12', 5),\n",
       " ('John 19', 4),\n",
       " ('Acts 2', 4),\n",
       " ('Matthew 5', 4),\n",
       " ('Matthew 15', 4),\n",
       " ('Hebrews 10', 4),\n",
       " ('Mark 11', 3),\n",
       " ('Mark 10', 3),\n",
       " ('Luke 20', 3),\n",
       " ('John 15', 3),\n",
       " ('John 12', 3),\n",
       " ('Matthew 27', 3),\n",
       " ('Matthew 2', 3),\n",
       " ('1 Corinthians 10', 3),\n",
       " ('James 2', 3),\n",
       " ('Romans 12', 3),\n",
       " ('Romans 13', 3),\n",
       " ('Hebrews 4', 3),\n",
       " ('Ephesians 4', 3),\n",
       " ('Matthew 19', 3),\n",
       " ('Matthew 12', 3),\n",
       " ('Hebrews 13', 3),\n",
       " ('Mark 15', 2),\n",
       " ('John 6', 2),\n",
       " ('Romans 2', 2)]"
      ]
     },
     "execution_count": 10,
     "metadata": {},
     "output_type": "execute_result"
    }
   ],
   "source": [
    "Counter(nt_book_chapters).most_common(45)"
   ]
  },
  {
   "cell_type": "markdown",
   "metadata": {},
   "source": [
    "## OT verses with most quotations"
   ]
  },
  {
   "cell_type": "code",
   "execution_count": 11,
   "metadata": {},
   "outputs": [
    {
     "data": {
      "text/plain": [
       "[('Leviticus 19:18', 7),\n",
       " ('Psalms 110:1', 6),\n",
       " ('Exodus 20:12', 6),\n",
       " ('Psalms 118:22', 5),\n",
       " ('Isaiah 6:9', 5),\n",
       " ('Deuteronomy 5:16', 5),\n",
       " ('Isaiah 40:3', 4),\n",
       " ('Psalms 6:8', 3),\n",
       " ('Exodus 3:6', 3),\n",
       " ('Psalms 2:7', 3),\n",
       " ('Isaiah 56:7', 3),\n",
       " ('Jeremiah 7:11', 3),\n",
       " ('Malachi 3:1', 3),\n",
       " ('Isaiah 28:16', 3),\n",
       " ('Psalms 95:7', 3),\n",
       " ('Deuteronomy 25:5', 3),\n",
       " ('Genesis 2:24', 3),\n",
       " ('Genesis 15:6', 2),\n",
       " ('Hosea 6:6', 2),\n",
       " ('Isaiah 25:8', 2)]"
      ]
     },
     "execution_count": 11,
     "metadata": {},
     "output_type": "execute_result"
    }
   ],
   "source": [
    "Counter(ot_bcv).most_common(20)"
   ]
  },
  {
   "cell_type": "code",
   "execution_count": null,
   "metadata": {
    "collapsed": true
   },
   "outputs": [],
   "source": []
  }
 ],
 "metadata": {
  "kernelspec": {
   "display_name": "Python 2",
   "language": "python",
   "name": "python2"
  },
  "language_info": {
   "codemirror_mode": {
    "name": "ipython",
    "version": 2
   },
   "file_extension": ".py",
   "mimetype": "text/x-python",
   "name": "python",
   "nbconvert_exporter": "python",
   "pygments_lexer": "ipython2",
   "version": "2.7.9"
  }
 },
 "nbformat": 4,
 "nbformat_minor": 2
}
